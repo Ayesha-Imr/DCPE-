{
 "cells": [
  {
   "cell_type": "markdown",
   "metadata": {},
   "source": [
    "# Simple (non-encrypted) Vector Operations"
   ]
  },
  {
   "cell_type": "code",
   "execution_count": 8,
   "metadata": {},
   "outputs": [],
   "source": [
    "import time\n",
    "from simple_vector_search import *"
   ]
  },
  {
   "cell_type": "markdown",
   "metadata": {},
   "source": [
    "## Ingest data"
   ]
  },
  {
   "cell_type": "code",
   "execution_count": 2,
   "metadata": {},
   "outputs": [
    {
     "name": "stdout",
     "output_type": "stream",
     "text": [
      "Ingestion Result: {'insert_count': 83, 'ids': [456388953252882682, 456388953252882683, 456388953252882684, 456388953252882685, 456388953252882686, 456388953252882687, 456388953252882688, 456388953252882689, 456388953252882690, 456388953252882691, 456388953252882692, 456388953252882693, 456388953252882694, 456388953252882695, 456388953252882696, 456388953252882697, 456388953252882698, 456388953252882699, 456388953252882700, 456388953252882701, 456388953252882702, 456388953252882703, 456388953252882704, 456388953252882705, 456388953252882706, 456388953252882707, 456388953252882708, 456388953252882709, 456388953252882710, 456388953252882711, 456388953252882712, 456388953252882713, 456388953252882714, 456388953252882715, 456388953252882716, 456388953252882717, 456388953252882718, 456388953252882719, 456388953252882720, 456388953252882721, 456388953252882722, 456388953252882723, 456388953252882724, 456388953252882725, 456388953252882726, 456388953252882727, 456388953252882728, 456388953252882729, 456388953252882730, 456388953252882731, 456388953252882732, 456388953252882733, 456388953252882734, 456388953252882735, 456388953252882736, 456388953252882737, 456388953252882738, 456388953252882739, 456388953252882740, 456388953252882741, 456388953252882742, 456388953252882743, 456388953252882744, 456388953252882745, 456388953252882746, 456388953252882747, 456388953252882748, 456388953252882749, 456388953252882750, 456388953252882751, 456388953252882752, 456388953252882753, 456388953252882754, 456388953252882755, 456388953252882756, 456388953252882757, 456388953252882758, 456388953252882759, 456388953252882760, 456388953252882761, 456388953252882762, 456388953252882763, 456388953252882764], 'cost': 43}\n",
      "Execution Time: 157.2089 seconds\n"
     ]
    }
   ],
   "source": [
    "import time\n",
    "\n",
    "# Example usage (ingestion)\n",
    "pdf_url_ingest = \"https://openaccess.thecvf.com/content/CVPR2022W/WiCV/papers/Schneider_Autoencoders_-_A_Comparative_Analysis_in_the_Realm_of_Anomaly_CVPRW_2022_paper.pdf\"\n",
    "\n",
    "start_time = time.time()  # Start the timer\n",
    "ingest_result = process_and_ingest_data(pdf_url_ingest)  # Function execution\n",
    "end_time = time.time()  # End the timer\n",
    "\n",
    "execution_time = end_time - start_time  # Calculate duration\n",
    "print(f\"Ingestion Result: {ingest_result}\")\n",
    "print(f\"Execution Time: {execution_time:.4f} seconds\")\n"
   ]
  },
  {
   "cell_type": "markdown",
   "metadata": {},
   "source": [
    "## Perform Vector Search"
   ]
  },
  {
   "cell_type": "code",
   "execution_count": 9,
   "metadata": {},
   "outputs": [
    {
     "name": "stdout",
     "output_type": "stream",
     "text": [
      "\n",
      "Search Results:\n",
      " \n",
      "Result 1 (Similarity Score: 0.31):\n",
      "------------------------------------------------------------------\n",
      "Source URL: https://openaccess.thecvf.com/content/CVPR2022W/WiCV/papers/Schneider_Autoencoders_-_A_Comparative_Analysis_in_the_Realm_of_Anomaly_CVPRW_2022_paper.pdf\n",
      "Upload Date: 2025-03-20 20:31:33\n",
      "\n",
      "Text Content:\n",
      "An anomaly deviates from what is regarded as normal or usual. Anomalies appear with great diversity, therefore their detection represents a complex problem [18]. The detection of defects in industrial settings [22], fraud detection in bank transfer processes [6], the localization of diseased tissue in medical imaging [8] and many other problems can be for- mulated as an anomaly detection framework, thus the detection of anomalies is also highly relevant. Autoencoders [20] can be used to detect anomalous samples. The autoencoder (AE) model consists of an encoder and a decoder. The encoder\n",
      "------------------------------------------------------------------\n",
      "\n",
      "\n",
      "Result 2 (Similarity Score: 0.37):\n",
      "------------------------------------------------------------------\n",
      "Source URL: https://openaccess.thecvf.com/content/CVPR2022W/WiCV/papers/Schneider_Autoencoders_-_A_Comparative_Analysis_in_the_Realm_of_Anomaly_CVPRW_2022_paper.pdf\n",
      "Upload Date: 2025-03-20 20:31:36\n",
      "\n",
      "Text Content:\n",
      "The concept of autoencoders for detecting anomalies was used in [21] in a medical context, namely on stained histological images and chest X-rays. Autoencoders were applied to discriminate schizophrenic from healthy individuals in [23]. Autoencoders have also been used to detect defects in industrial settings, e. g., [7] used autoencoders to detect manufacturing defects on metal boxes and [17] applied the concept on images of defective rail surfaces.\n",
      "------------------------------------------------------------------\n",
      "\n",
      "\n",
      "Result 3 (Similarity Score: 0.39):\n",
      "------------------------------------------------------------------\n",
      "Source URL: https://openaccess.thecvf.com/content/CVPR2022W/WiCV/papers/Schneider_Autoencoders_-_A_Comparative_Analysis_in_the_Realm_of_Anomaly_CVPRW_2022_paper.pdf\n",
      "Upload Date: 2025-03-20 20:31:38\n",
      "\n",
      "Text Content:\n",
      "Our experiments on AEs for anomaly detection show that all convolutional autoencoders compute very good results for MNIST . However, we could also observe that the CIFAR10 dataset represents a far more challenging task. The distinction between normal and anomalous class samples was made only moderately accurate. To capture the 'cost-benefit ratio' of our different autoencoder types, we evaluated the quality of their anomaly detection results alongside with their measured training times.\n",
      "\n",
      "Our contribution comprises:\n",
      "------------------------------------------------------------------\n",
      "\n",
      "\n",
      "Result 4 (Similarity Score: 0.41):\n",
      "------------------------------------------------------------------\n",
      "Source URL: https://openaccess.thecvf.com/content/CVPR2022W/WiCV/papers/Schneider_Autoencoders_-_A_Comparative_Analysis_in_the_Realm_of_Anomaly_CVPRW_2022_paper.pdf\n",
      "Upload Date: 2025-03-20 20:32:27\n",
      "\n",
      "Text Content:\n",
      "Our currently ongoing future work and follow-up experiments with autoencoders do not only treat images of one class as normal, but extend our approach and vary between different choices of classes to be considered normal. Additionally, we will investigate the defect detection performances of autoencoders in industrial inspection settings thoroughly.\n",
      "\n",
      "## References\n",
      "------------------------------------------------------------------\n",
      "\n",
      "\n",
      "Result 5 (Similarity Score: 0.41):\n",
      "------------------------------------------------------------------\n",
      "Source URL: https://openaccess.thecvf.com/content/CVPR2022W/WiCV/papers/Schneider_Autoencoders_-_A_Comparative_Analysis_in_the_Realm_of_Anomaly_CVPRW_2022_paper.pdf\n",
      "Upload Date: 2025-03-20 20:32:23\n",
      "\n",
      "Text Content:\n",
      "The increase in anomaly detection performance is only marginal and not even present for some classes. Nevertheless, Tab. 3 provides insight on the fact that, although all three autoencoder types are based on the same principle of encoding and decoding information, their underlying concepts vary. The reconstruction results differ from each other (Fig. 3 and 4). This might be utilized in some way and is definitely an interesting starting point for further investigation. However, for some applications one might need to consider if it is justified to use a far more complex model if the results it\n",
      "------------------------------------------------------------------\n",
      "\n"
     ]
    }
   ],
   "source": [
    "query = \"How can autoencoders help detect anomalies?\"\n",
    "search_results = search_query(query) \n",
    "\n",
    "print(\"\\nSearch Results:\\n\", search_results)"
   ]
  },
  {
   "cell_type": "markdown",
   "metadata": {},
   "source": [
    "# Encrypted Vector Operations (using DCPE)"
   ]
  },
  {
   "cell_type": "code",
   "execution_count": 1,
   "metadata": {},
   "outputs": [
    {
     "name": "stderr",
     "output_type": "stream",
     "text": [
      "d:\\Projects\\DCPE - CC (March 2025)\\venv\\Lib\\site-packages\\tqdm\\auto.py:21: TqdmWarning: IProgress not found. Please update jupyter and ipywidgets. See https://ipywidgets.readthedocs.io/en/stable/user_install.html\n",
      "  from .autonotebook import tqdm as notebook_tqdm\n"
     ]
    },
    {
     "name": "stdout",
     "output_type": "stream",
     "text": [
      "VXwysefo5mrBKo3JK33GGzsz5PMk6vwzKamry1ad\n"
     ]
    }
   ],
   "source": [
    "from encrypted_vector_search import *"
   ]
  },
  {
   "cell_type": "markdown",
   "metadata": {},
   "source": [
    "## Ingest data"
   ]
  },
  {
   "cell_type": "code",
   "execution_count": 4,
   "metadata": {},
   "outputs": [
    {
     "ename": "ValueError",
     "evalue": "Nonce must be 12 bytes long",
     "output_type": "error",
     "traceback": [
      "\u001b[31m---------------------------------------------------------------------------\u001b[39m",
      "\u001b[31mValueError\u001b[39m                                Traceback (most recent call last)",
      "\u001b[36mCell\u001b[39m\u001b[36m \u001b[39m\u001b[32mIn[4]\u001b[39m\u001b[32m, line 7\u001b[39m\n\u001b[32m      4\u001b[39m pdf_url_ingest = \u001b[33m\"\u001b[39m\u001b[33mhttps://blog.stackademic.com/model-context-protocol-mcp-in-ai-9858b5ecd9ce\u001b[39m\u001b[33m\"\u001b[39m\n\u001b[32m      6\u001b[39m start_time = time.time()  \u001b[38;5;66;03m# Start the timer\u001b[39;00m\n\u001b[32m----> \u001b[39m\u001b[32m7\u001b[39m ingest_result = \u001b[43mprocess_and_ingest_data\u001b[49m\u001b[43m(\u001b[49m\u001b[43mpdf_url_ingest\u001b[49m\u001b[43m,\u001b[49m\u001b[43m \u001b[49m\u001b[43mrag_client\u001b[49m\u001b[43m)\u001b[49m  \u001b[38;5;66;03m# Function execution\u001b[39;00m\n\u001b[32m      8\u001b[39m end_time = time.time()  \u001b[38;5;66;03m# End the timer\u001b[39;00m\n\u001b[32m     10\u001b[39m execution_time = end_time - start_time  \u001b[38;5;66;03m# Calculate duration\u001b[39;00m\n",
      "\u001b[36mFile \u001b[39m\u001b[32md:\\Projects\\DCPE - CC (March 2025)\\DCPE\\encrypted_vector_search.py:253\u001b[39m, in \u001b[36mprocess_and_ingest_data\u001b[39m\u001b[34m(url, rag_client)\u001b[39m\n\u001b[32m    251\u001b[39m text_data = extract_pdf_url(url)\n\u001b[32m    252\u001b[39m \u001b[38;5;66;03m# Process data\u001b[39;00m\n\u001b[32m--> \u001b[39m\u001b[32m253\u001b[39m processed_data = \u001b[43mprocess_data\u001b[49m\u001b[43m(\u001b[49m\u001b[43mtext_data\u001b[49m\u001b[43m,\u001b[49m\u001b[43m \u001b[49m\u001b[43murl\u001b[49m\u001b[43m,\u001b[49m\u001b[43m \u001b[49m\u001b[43mrag_client\u001b[49m\u001b[43m)\u001b[49m \u001b[38;5;66;03m# Pass rag_client\u001b[39;00m\n\u001b[32m    254\u001b[39m \u001b[38;5;66;03m# Insert data into Zilliz Cloud collection\u001b[39;00m\n\u001b[32m    255\u001b[39m res = client.insert(\n\u001b[32m    256\u001b[39m     collection_name=collection_name,\n\u001b[32m    257\u001b[39m     data=processed_data\n\u001b[32m    258\u001b[39m )\n",
      "\u001b[36mFile \u001b[39m\u001b[32md:\\Projects\\DCPE - CC (March 2025)\\DCPE\\encrypted_vector_search.py:226\u001b[39m, in \u001b[36mprocess_data\u001b[39m\u001b[34m(data, source_url, rag_client)\u001b[39m\n\u001b[32m    223\u001b[39m base64_encoded_payload = base64.b64encode(encrypted_payload_bytes).decode(\u001b[33m'\u001b[39m\u001b[33mutf-8\u001b[39m\u001b[33m'\u001b[39m)\n\u001b[32m    225\u001b[39m \u001b[38;5;66;03m# Deterministically encrypt metadata fields\u001b[39;00m\n\u001b[32m--> \u001b[39m\u001b[32m226\u001b[39m encrypted_source_url = \u001b[43mrag_client\u001b[49m\u001b[43m.\u001b[49m\u001b[43mencrypt_deterministic_text\u001b[49m\u001b[43m(\u001b[49m\u001b[43msource_url\u001b[49m\u001b[43m)\u001b[49m\n\u001b[32m    227\u001b[39m current_time = time.strftime(\u001b[33m\"\u001b[39m\u001b[33m%\u001b[39m\u001b[33mY-\u001b[39m\u001b[33m%\u001b[39m\u001b[33mm-\u001b[39m\u001b[38;5;132;01m%d\u001b[39;00m\u001b[33m \u001b[39m\u001b[33m%\u001b[39m\u001b[33mH:\u001b[39m\u001b[33m%\u001b[39m\u001b[33mM:\u001b[39m\u001b[33m%\u001b[39m\u001b[33mS\u001b[39m\u001b[33m\"\u001b[39m)\n\u001b[32m    228\u001b[39m encrypted_upload_date = rag_client.encrypt_deterministic_text(current_time)\n",
      "\u001b[36mFile \u001b[39m\u001b[32md:\\Projects\\DCPE - CC (March 2025)\\DCPE\\rag_encryption_module.py:204\u001b[39m, in \u001b[36mRagEncryptionClient.encrypt_deterministic_text\u001b[39m\u001b[34m(self, plaintext)\u001b[39m\n\u001b[32m    202\u001b[39m \u001b[38;5;66;03m# No nonce needed for deterministic encryption with SIV\u001b[39;00m\n\u001b[32m    203\u001b[39m cipher = AESGCMSIV(\u001b[38;5;28mself\u001b[39m.deterministic_encryption_key.get_bytes())\n\u001b[32m--> \u001b[39m\u001b[32m204\u001b[39m ciphertext = \u001b[43mcipher\u001b[49m\u001b[43m.\u001b[49m\u001b[43mencrypt\u001b[49m\u001b[43m(\u001b[49m\u001b[33;43mb\u001b[39;49m\u001b[33;43m\"\u001b[39;49m\u001b[33;43m\"\u001b[39;49m\u001b[43m,\u001b[49m\u001b[43m \u001b[49m\u001b[43mplaintext\u001b[49m\u001b[43m.\u001b[49m\u001b[43mencode\u001b[49m\u001b[43m(\u001b[49m\u001b[33;43m'\u001b[39;49m\u001b[33;43mutf-8\u001b[39;49m\u001b[33;43m'\u001b[39;49m\u001b[43m)\u001b[49m\u001b[43m,\u001b[49m\u001b[43m \u001b[49m\u001b[43massociated_data\u001b[49m\u001b[43m)\u001b[49m\n\u001b[32m    206\u001b[39m \u001b[38;5;28;01mreturn\u001b[39;00m ciphertext\n",
      "\u001b[31mValueError\u001b[39m: Nonce must be 12 bytes long"
     ]
    }
   ],
   "source": [
    "import time\n",
    "\n",
    "# Example usage (ingestion)\n",
    "pdf_url_ingest = \"https://blog.stackademic.com/model-context-protocol-mcp-in-ai-9858b5ecd9ce\"\n",
    "\n",
    "start_time = time.time()  # Start the timer\n",
    "ingest_result = process_and_ingest_data(pdf_url_ingest, rag_client)  # Function execution\n",
    "end_time = time.time()  # End the timer\n",
    "\n",
    "execution_time = end_time - start_time  # Calculate duration\n",
    "print(f\"Ingestion Result: {ingest_result}\")\n",
    "print(f\"Execution Time: {execution_time:.4f} seconds\")\n"
   ]
  },
  {
   "cell_type": "markdown",
   "metadata": {},
   "source": [
    "## Perform vector search"
   ]
  },
  {
   "cell_type": "code",
   "execution_count": null,
   "metadata": {},
   "outputs": [
    {
     "name": "stdout",
     "output_type": "stream",
     "text": [
      "\n",
      "Search Results:\n",
      " \n",
      "Result 1 (Similarity Score: 0.40):\n",
      "------------------------------------------------------------------\n",
      "Source URL: Decryption Error: DCPEError: DecryptError: Text decryption failed: \n",
      "Upload Date: Decryption Error: DCPEError: DecryptError: Text decryption failed: \n",
      "\n",
      "Text Content (Decrypted):\n",
      "Decryption Error: DCPEError: DecryptError: Text decryption failed: \n",
      "------------------------------------------------------------------\n",
      "\n",
      "\n",
      "Result 2 (Similarity Score: 0.45):\n",
      "------------------------------------------------------------------\n",
      "Source URL: Decryption Error: DCPEError: DecryptError: Text decryption failed: \n",
      "Upload Date: Decryption Error: DCPEError: DecryptError: Text decryption failed: \n",
      "\n",
      "Text Content (Decrypted):\n",
      "Decryption Error: DCPEError: DecryptError: Text decryption failed: \n",
      "------------------------------------------------------------------\n",
      "\n",
      "\n",
      "Result 3 (Similarity Score: 0.45):\n",
      "------------------------------------------------------------------\n",
      "Source URL: Decryption Error: DCPEError: DecryptError: Text decryption failed: \n",
      "Upload Date: Decryption Error: DCPEError: DecryptError: Text decryption failed: \n",
      "\n",
      "Text Content (Decrypted):\n",
      "Decryption Error: DCPEError: DecryptError: Text decryption failed: \n",
      "------------------------------------------------------------------\n",
      "\n",
      "\n",
      "Result 4 (Similarity Score: 0.48):\n",
      "------------------------------------------------------------------\n",
      "Source URL: Decryption Error: DCPEError: DecryptError: Text decryption failed: \n",
      "Upload Date: Decryption Error: DCPEError: DecryptError: Text decryption failed: \n",
      "\n",
      "Text Content (Decrypted):\n",
      "Decryption Error: DCPEError: DecryptError: Text decryption failed: \n",
      "------------------------------------------------------------------\n",
      "\n",
      "\n",
      "Result 5 (Similarity Score: 0.49):\n",
      "------------------------------------------------------------------\n",
      "Source URL: Decryption Error: DCPEError: DecryptError: Text decryption failed: \n",
      "Upload Date: Decryption Error: DCPEError: DecryptError: Text decryption failed: \n",
      "\n",
      "Text Content (Decrypted):\n",
      "Decryption Error: DCPEError: DecryptError: Text decryption failed: \n",
      "------------------------------------------------------------------\n",
      "\n"
     ]
    }
   ],
   "source": [
    "query = \"how does MCP work?\"\n",
    "search_results = search_query(query, rag_client) # Pass rag_client to search function\n",
    "\n",
    "print(\"\\nSearch Results:\\n\", search_results)"
   ]
  },
  {
   "cell_type": "code",
   "execution_count": null,
   "metadata": {},
   "outputs": [],
   "source": []
  }
 ],
 "metadata": {
  "kernelspec": {
   "display_name": "venv",
   "language": "python",
   "name": "python3"
  },
  "language_info": {
   "codemirror_mode": {
    "name": "ipython",
    "version": 3
   },
   "file_extension": ".py",
   "mimetype": "text/x-python",
   "name": "python",
   "nbconvert_exporter": "python",
   "pygments_lexer": "ipython3",
   "version": "3.11.5"
  }
 },
 "nbformat": 4,
 "nbformat_minor": 2
}
